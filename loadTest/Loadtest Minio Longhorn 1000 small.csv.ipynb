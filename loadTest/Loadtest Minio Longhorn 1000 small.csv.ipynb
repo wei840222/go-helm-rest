{
 "cells": [
  {
   "cell_type": "code",
   "execution_count": 1,
   "metadata": {},
   "outputs": [],
   "source": [
    "import os, time, shutil, tarfile\n",
    "from minio import Minio\n",
    "from minio.error import ResponseError\n",
    "from tqdm import tnrange\n",
    "\n",
    "times = 1\n",
    "resultSmallFile = []\n",
    "testList = [1000]"
   ]
  },
  {
   "cell_type": "markdown",
   "metadata": {},
   "source": [
    "Gen test file"
   ]
  },
  {
   "cell_type": "code",
   "execution_count": null,
   "metadata": {},
   "outputs": [],
   "source": [
    "with open('file.txt', 'w') as f:\n",
    "    for i in range(64*1000*1000):\n",
    "        f.write('a')\n",
    "\n",
    "os.mkdir('minio_test_data')\n",
    "\n",
    "for size in testList:\n",
    "    os.mkdir('minio_test_data/'+str(size))\n",
    "    for i in range(size):\n",
    "        shutil.copyfile('file.txt', 'minio_test_data/'+str(size)+'/'+str(i))"
   ]
  },
  {
   "cell_type": "markdown",
   "metadata": {},
   "source": [
    "Upload test"
   ]
  },
  {
   "cell_type": "code",
   "execution_count": 3,
   "metadata": {},
   "outputs": [
    {
     "data": {
      "application/vnd.jupyter.widget-view+json": {
       "model_id": "8062d1cb4d794dbda197f821938c3065",
       "version_major": 2,
       "version_minor": 0
      },
      "text/plain": [
       "HBox(children=(IntProgress(value=0, description='times', max=1, style=ProgressStyle(description_width='initial…"
      ]
     },
     "metadata": {},
     "output_type": "display_data"
    },
    {
     "data": {
      "application/vnd.jupyter.widget-view+json": {
       "model_id": "93265b99084f4809a9ec357380ca1b4a",
       "version_major": 2,
       "version_minor": 0
      },
      "text/plain": [
       "HBox(children=(IntProgress(value=0, description='files', max=1000, style=ProgressStyle(description_width='init…"
      ]
     },
     "metadata": {},
     "output_type": "display_data"
    },
    {
     "name": "stdout",
     "output_type": "stream",
     "text": [
      "\n"
     ]
    }
   ],
   "source": [
    "minioClient = Minio('140.124.181.77:31437',\n",
    "                    access_key='wei840222',\n",
    "                    secret_key='j04rmp4jo3',\n",
    "                    secure=False)\n",
    "\n",
    "for ti in tnrange(times, desc='times'):\n",
    "    runTimeListSmallFile = []\n",
    "    \n",
    "    for size in testList:\n",
    "        try:\n",
    "            minioClient.make_bucket('test-1000'+str(size)+'-'+str(ti), location=\"us-east-1\")\n",
    "        except ResponseError as err:\n",
    "            print(err)\n",
    "\n",
    "        try:\n",
    "            start = time.time()\n",
    "            for j in tnrange(size, desc='files'):\n",
    "                minioClient.fput_object('test-1000'+str(size)+'-'+str(ti), str(j), 'minio_test_data/'+str(size)+'/'+str(j))\n",
    "            end = time.time()\n",
    "            runTimeListSmallFile.append(end-start)\n",
    "        except ResponseError as err:\n",
    "            print(err)\n",
    "            print('upload minio_test_data/'+str(size)+'/'+str(j)+'fail')\n",
    "            runTimeListSmallFile.append(-1)\n",
    "            \n",
    "    resultSmallFile.append(runTimeListSmallFile)"
   ]
  },
  {
   "cell_type": "markdown",
   "metadata": {},
   "source": [
    "output result to csv"
   ]
  },
  {
   "cell_type": "code",
   "execution_count": 4,
   "metadata": {},
   "outputs": [],
   "source": [
    "with open('small_file_longhorn_1000_upload.csv', 'w') as f:\n",
    "    f.write(str([str(t)+'-file' for t in testList]).replace(\"'\",'')[1:-1]+'\\n')\n",
    "    for r in resultSmallFile:\n",
    "        f.write(str(r)[1:-1]+'\\n')"
   ]
  },
  {
   "cell_type": "markdown",
   "metadata": {},
   "source": [
    "Download test"
   ]
  },
  {
   "cell_type": "code",
   "execution_count": 5,
   "metadata": {},
   "outputs": [
    {
     "data": {
      "application/vnd.jupyter.widget-view+json": {
       "model_id": "5a8b97bf1efa4b00b35eb0c22066c2b4",
       "version_major": 2,
       "version_minor": 0
      },
      "text/plain": [
       "HBox(children=(IntProgress(value=0, description='times', max=1, style=ProgressStyle(description_width='initial…"
      ]
     },
     "metadata": {},
     "output_type": "display_data"
    },
    {
     "data": {
      "application/vnd.jupyter.widget-view+json": {
       "model_id": "47408b5e3aa04a2481b66443b8efb1d5",
       "version_major": 2,
       "version_minor": 0
      },
      "text/plain": [
       "HBox(children=(IntProgress(value=0, description='files', max=1000, style=ProgressStyle(description_width='init…"
      ]
     },
     "metadata": {},
     "output_type": "display_data"
    },
    {
     "name": "stdout",
     "output_type": "stream",
     "text": [
      "\n"
     ]
    }
   ],
   "source": [
    "resultSmallFile = []\n",
    "for ti in tnrange(times, desc='times'):\n",
    "    runTimeListSmallFile = []\n",
    "    \n",
    "    for size in testList:\n",
    "        try:\n",
    "            start = time.time()\n",
    "            for j in tnrange(size, desc='files'):\n",
    "                minioClient.fget_object('test-1000'+str(size)+'-'+str(ti), str(j), 'minio_test_data_read/'+str(size)+'/'+str(j))\n",
    "            end = time.time()\n",
    "            runTimeListSmallFile.append(end-start)\n",
    "        except ResponseError as err:\n",
    "            print(err)\n",
    "            print('download minio_test_data/'+str(size)+'/'+str(j)+'fail')\n",
    "            runTimeListSmallFile.append(-1)\n",
    "            \n",
    "    resultSmallFile.append(runTimeListSmallFile)"
   ]
  },
  {
   "cell_type": "code",
   "execution_count": 6,
   "metadata": {},
   "outputs": [],
   "source": [
    "with open('small_file_longhorn_1000_download.csv', 'w') as f:\n",
    "    f.write(str([str(t)+'-file' for t in testList]).replace(\"'\",'')[1:-1]+'\\n')\n",
    "    for r in resultSmallFile:\n",
    "        f.write(str(r)[1:-1]+'\\n')"
   ]
  },
  {
   "cell_type": "markdown",
   "metadata": {},
   "source": [
    "clean file"
   ]
  },
  {
   "cell_type": "code",
   "execution_count": 7,
   "metadata": {},
   "outputs": [],
   "source": [
    "try:\n",
    "    os.remove('file.txt')\n",
    "except OSError as e:  ## if failed, report it back to the user ##\n",
    "    print (\"Error: %s - %s.\" % (e.filename, e.strerror))\n",
    "try:\n",
    "    shutil.rmtree('minio_test_data')\n",
    "except OSError as e:\n",
    "    print (\"Error: %s - %s.\" % (e.filename, e.strerror))\n",
    "try:\n",
    "    shutil.rmtree('minio_test_data_read')\n",
    "except OSError as e:\n",
    "    print (\"Error: %s - %s.\" % (e.filename, e.strerror))"
   ]
  }
 ],
 "metadata": {
  "kernelspec": {
   "display_name": "Python 3",
   "language": "python",
   "name": "python3"
  },
  "language_info": {
   "codemirror_mode": {
    "name": "ipython",
    "version": 3
   },
   "file_extension": ".py",
   "mimetype": "text/x-python",
   "name": "python",
   "nbconvert_exporter": "python",
   "pygments_lexer": "ipython3",
   "version": "3.6.8"
  }
 },
 "nbformat": 4,
 "nbformat_minor": 2
}
