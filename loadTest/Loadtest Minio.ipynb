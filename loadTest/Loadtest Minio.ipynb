{
 "cells": [
  {
   "cell_type": "code",
   "execution_count": 1,
   "metadata": {},
   "outputs": [],
   "source": [
    "import os, time, shutil, tarfile\n",
    "from minio import Minio\n",
    "from minio.error import ResponseError\n",
    "from tqdm import tnrange\n",
    "\n",
    "times = 10\n",
    "resultSmallFile = []\n",
    "resultBigFile = []\n",
    "testList = [1, 2, 3, 4, 5, 6, 7, 8, 9, 10]"
   ]
  },
  {
   "cell_type": "markdown",
   "metadata": {},
   "source": [
    "Gen test file"
   ]
  },
  {
   "cell_type": "code",
   "execution_count": 2,
   "metadata": {},
   "outputs": [],
   "source": [
    "with open('file.txt', 'w') as f:\n",
    "    for i in range(64*1000*1000):\n",
    "        f.write('a')\n",
    "\n",
    "os.mkdir('minio_test_data')\n",
    "\n",
    "for size in testList:\n",
    "    os.mkdir('minio_test_data/'+str(size))\n",
    "    tar=tarfile.open('minio_test_data/'+str(size)+'.tar','w')  \n",
    "    for i in range(size):\n",
    "        shutil.copyfile('file.txt', 'minio_test_data/'+str(size)+'/'+str(i))\n",
    "        tar.add('minio_test_data/'+str(size)+'/'+str(i))\n",
    "    tar.close()"
   ]
  },
  {
   "cell_type": "markdown",
   "metadata": {},
   "source": [
    "Upload test"
   ]
  },
  {
   "cell_type": "code",
   "execution_count": null,
   "metadata": {},
   "outputs": [
    {
     "data": {
      "application/vnd.jupyter.widget-view+json": {
       "model_id": "d29849f0955947d0a193b3fdd447fdba",
       "version_major": 2,
       "version_minor": 0
      },
      "text/plain": [
       "HBox(children=(IntProgress(value=0, description='times', max=10, style=ProgressStyle(description_width='initia…"
      ]
     },
     "metadata": {},
     "output_type": "display_data"
    },
    {
     "data": {
      "application/vnd.jupyter.widget-view+json": {
       "model_id": "306dee23ee374b57818105e613d0b420",
       "version_major": 2,
       "version_minor": 0
      },
      "text/plain": [
       "HBox(children=(IntProgress(value=0, description='files', max=1, style=ProgressStyle(description_width='initial…"
      ]
     },
     "metadata": {},
     "output_type": "display_data"
    },
    {
     "data": {
      "application/vnd.jupyter.widget-view+json": {
       "model_id": "ac5bf1633cf54c798d13799effaf6fb6",
       "version_major": 2,
       "version_minor": 0
      },
      "text/plain": [
       "HBox(children=(IntProgress(value=0, description='files', max=2, style=ProgressStyle(description_width='initial…"
      ]
     },
     "metadata": {},
     "output_type": "display_data"
    },
    {
     "data": {
      "application/vnd.jupyter.widget-view+json": {
       "model_id": "5ecd31d5c7ce4bc4bc7f3efc1a9e6691",
       "version_major": 2,
       "version_minor": 0
      },
      "text/plain": [
       "HBox(children=(IntProgress(value=0, description='files', max=3, style=ProgressStyle(description_width='initial…"
      ]
     },
     "metadata": {},
     "output_type": "display_data"
    },
    {
     "data": {
      "application/vnd.jupyter.widget-view+json": {
       "model_id": "c1876412476549faa78987b1d7b491a2",
       "version_major": 2,
       "version_minor": 0
      },
      "text/plain": [
       "HBox(children=(IntProgress(value=0, description='files', max=4, style=ProgressStyle(description_width='initial…"
      ]
     },
     "metadata": {},
     "output_type": "display_data"
    },
    {
     "data": {
      "application/vnd.jupyter.widget-view+json": {
       "model_id": "105f31fa514d4fe982c90f33d9140528",
       "version_major": 2,
       "version_minor": 0
      },
      "text/plain": [
       "HBox(children=(IntProgress(value=0, description='files', max=5, style=ProgressStyle(description_width='initial…"
      ]
     },
     "metadata": {},
     "output_type": "display_data"
    },
    {
     "data": {
      "application/vnd.jupyter.widget-view+json": {
       "model_id": "d6b1ed31e5a8484296a63bd4edfde339",
       "version_major": 2,
       "version_minor": 0
      },
      "text/plain": [
       "HBox(children=(IntProgress(value=0, description='files', max=6, style=ProgressStyle(description_width='initial…"
      ]
     },
     "metadata": {},
     "output_type": "display_data"
    },
    {
     "data": {
      "application/vnd.jupyter.widget-view+json": {
       "model_id": "70d80eb45957452ebd281861a78fc6cf",
       "version_major": 2,
       "version_minor": 0
      },
      "text/plain": [
       "HBox(children=(IntProgress(value=0, description='files', max=7, style=ProgressStyle(description_width='initial…"
      ]
     },
     "metadata": {},
     "output_type": "display_data"
    },
    {
     "data": {
      "application/vnd.jupyter.widget-view+json": {
       "model_id": "cdd20074f0d24eeaad8ee0f48553dd5a",
       "version_major": 2,
       "version_minor": 0
      },
      "text/plain": [
       "HBox(children=(IntProgress(value=0, description='files', max=8, style=ProgressStyle(description_width='initial…"
      ]
     },
     "metadata": {},
     "output_type": "display_data"
    },
    {
     "data": {
      "application/vnd.jupyter.widget-view+json": {
       "model_id": "0a8c2de4778f40ad8b177ef0e60f694e",
       "version_major": 2,
       "version_minor": 0
      },
      "text/plain": [
       "HBox(children=(IntProgress(value=0, description='files', max=9, style=ProgressStyle(description_width='initial…"
      ]
     },
     "metadata": {},
     "output_type": "display_data"
    },
    {
     "data": {
      "application/vnd.jupyter.widget-view+json": {
       "model_id": "563d33ad61504219b9cc58d5722e8656",
       "version_major": 2,
       "version_minor": 0
      },
      "text/plain": [
       "HBox(children=(IntProgress(value=0, description='files', max=10, style=ProgressStyle(description_width='initia…"
      ]
     },
     "metadata": {},
     "output_type": "display_data"
    },
    {
     "data": {
      "application/vnd.jupyter.widget-view+json": {
       "model_id": "e6170180c9c940e7893cc883a65b230c",
       "version_major": 2,
       "version_minor": 0
      },
      "text/plain": [
       "HBox(children=(IntProgress(value=0, description='files', max=1, style=ProgressStyle(description_width='initial…"
      ]
     },
     "metadata": {},
     "output_type": "display_data"
    },
    {
     "data": {
      "application/vnd.jupyter.widget-view+json": {
       "model_id": "8879139fc4b64c93b49d3ce0adcb98d8",
       "version_major": 2,
       "version_minor": 0
      },
      "text/plain": [
       "HBox(children=(IntProgress(value=0, description='files', max=2, style=ProgressStyle(description_width='initial…"
      ]
     },
     "metadata": {},
     "output_type": "display_data"
    },
    {
     "data": {
      "application/vnd.jupyter.widget-view+json": {
       "model_id": "2b32012d471f419f8c427d5a7192df2f",
       "version_major": 2,
       "version_minor": 0
      },
      "text/plain": [
       "HBox(children=(IntProgress(value=0, description='files', max=3, style=ProgressStyle(description_width='initial…"
      ]
     },
     "metadata": {},
     "output_type": "display_data"
    },
    {
     "data": {
      "application/vnd.jupyter.widget-view+json": {
       "model_id": "b3c63da6906447bbabdcc7f16cd43c18",
       "version_major": 2,
       "version_minor": 0
      },
      "text/plain": [
       "HBox(children=(IntProgress(value=0, description='files', max=4, style=ProgressStyle(description_width='initial…"
      ]
     },
     "metadata": {},
     "output_type": "display_data"
    },
    {
     "data": {
      "application/vnd.jupyter.widget-view+json": {
       "model_id": "3753cee526664c96b27052882436f9e3",
       "version_major": 2,
       "version_minor": 0
      },
      "text/plain": [
       "HBox(children=(IntProgress(value=0, description='files', max=5, style=ProgressStyle(description_width='initial…"
      ]
     },
     "metadata": {},
     "output_type": "display_data"
    },
    {
     "data": {
      "application/vnd.jupyter.widget-view+json": {
       "model_id": "a2bd92d8979c44dda895032091d5400b",
       "version_major": 2,
       "version_minor": 0
      },
      "text/plain": [
       "HBox(children=(IntProgress(value=0, description='files', max=6, style=ProgressStyle(description_width='initial…"
      ]
     },
     "metadata": {},
     "output_type": "display_data"
    },
    {
     "data": {
      "application/vnd.jupyter.widget-view+json": {
       "model_id": "ebcd79f205854559917d12778a4259c4",
       "version_major": 2,
       "version_minor": 0
      },
      "text/plain": [
       "HBox(children=(IntProgress(value=0, description='files', max=7, style=ProgressStyle(description_width='initial…"
      ]
     },
     "metadata": {},
     "output_type": "display_data"
    },
    {
     "data": {
      "application/vnd.jupyter.widget-view+json": {
       "model_id": "d9702c4160a04d049c2b425ede30d592",
       "version_major": 2,
       "version_minor": 0
      },
      "text/plain": [
       "HBox(children=(IntProgress(value=0, description='files', max=8, style=ProgressStyle(description_width='initial…"
      ]
     },
     "metadata": {},
     "output_type": "display_data"
    },
    {
     "data": {
      "application/vnd.jupyter.widget-view+json": {
       "model_id": "7a6660ef18894a0aa17f8c3cbfd3baba",
       "version_major": 2,
       "version_minor": 0
      },
      "text/plain": [
       "HBox(children=(IntProgress(value=0, description='files', max=9, style=ProgressStyle(description_width='initial…"
      ]
     },
     "metadata": {},
     "output_type": "display_data"
    },
    {
     "data": {
      "application/vnd.jupyter.widget-view+json": {
       "model_id": "1ae64424a6c24fd4a4ea50cfd5b14833",
       "version_major": 2,
       "version_minor": 0
      },
      "text/plain": [
       "HBox(children=(IntProgress(value=0, description='files', max=10, style=ProgressStyle(description_width='initia…"
      ]
     },
     "metadata": {},
     "output_type": "display_data"
    },
    {
     "data": {
      "application/vnd.jupyter.widget-view+json": {
       "model_id": "41cf0176a0954797b8637beae3c5117e",
       "version_major": 2,
       "version_minor": 0
      },
      "text/plain": [
       "HBox(children=(IntProgress(value=0, description='files', max=1, style=ProgressStyle(description_width='initial…"
      ]
     },
     "metadata": {},
     "output_type": "display_data"
    },
    {
     "data": {
      "application/vnd.jupyter.widget-view+json": {
       "model_id": "f337408a79f244bfb2e516bbdce54333",
       "version_major": 2,
       "version_minor": 0
      },
      "text/plain": [
       "HBox(children=(IntProgress(value=0, description='files', max=2, style=ProgressStyle(description_width='initial…"
      ]
     },
     "metadata": {},
     "output_type": "display_data"
    },
    {
     "data": {
      "application/vnd.jupyter.widget-view+json": {
       "model_id": "1b56d263dacc4f6dab61d30f5b75215b",
       "version_major": 2,
       "version_minor": 0
      },
      "text/plain": [
       "HBox(children=(IntProgress(value=0, description='files', max=3, style=ProgressStyle(description_width='initial…"
      ]
     },
     "metadata": {},
     "output_type": "display_data"
    },
    {
     "data": {
      "application/vnd.jupyter.widget-view+json": {
       "model_id": "c6228d4f80974b4c9415203cf56d0eb1",
       "version_major": 2,
       "version_minor": 0
      },
      "text/plain": [
       "HBox(children=(IntProgress(value=0, description='files', max=4, style=ProgressStyle(description_width='initial…"
      ]
     },
     "metadata": {},
     "output_type": "display_data"
    },
    {
     "data": {
      "application/vnd.jupyter.widget-view+json": {
       "model_id": "66aa8b5ecc7f44a9ad078375741a8088",
       "version_major": 2,
       "version_minor": 0
      },
      "text/plain": [
       "HBox(children=(IntProgress(value=0, description='files', max=5, style=ProgressStyle(description_width='initial…"
      ]
     },
     "metadata": {},
     "output_type": "display_data"
    },
    {
     "data": {
      "application/vnd.jupyter.widget-view+json": {
       "model_id": "c6dab36caef041ef80801c78cdc6318d",
       "version_major": 2,
       "version_minor": 0
      },
      "text/plain": [
       "HBox(children=(IntProgress(value=0, description='files', max=6, style=ProgressStyle(description_width='initial…"
      ]
     },
     "metadata": {},
     "output_type": "display_data"
    },
    {
     "data": {
      "application/vnd.jupyter.widget-view+json": {
       "model_id": "23b8e5dfaf3142e481dfe7db212d31dc",
       "version_major": 2,
       "version_minor": 0
      },
      "text/plain": [
       "HBox(children=(IntProgress(value=0, description='files', max=7, style=ProgressStyle(description_width='initial…"
      ]
     },
     "metadata": {},
     "output_type": "display_data"
    },
    {
     "data": {
      "application/vnd.jupyter.widget-view+json": {
       "model_id": "eb7ec23e33644b238d138a510f259363",
       "version_major": 2,
       "version_minor": 0
      },
      "text/plain": [
       "HBox(children=(IntProgress(value=0, description='files', max=8, style=ProgressStyle(description_width='initial…"
      ]
     },
     "metadata": {},
     "output_type": "display_data"
    }
   ],
   "source": [
    "minioClient = Minio('140.124.181.78:30158',\n",
    "                    access_key='wei840222',\n",
    "                    secret_key='j04rmp4jo3',\n",
    "                    secure=False)\n",
    "\n",
    "for ti in tnrange(times, desc='times'):\n",
    "    runTimeListSmallFile = []\n",
    "    runTimeListBigFile = []\n",
    "    \n",
    "    for size in testList:\n",
    "        try:\n",
    "            minioClient.make_bucket('test-size'+str(size)+'-'+str(ti), location=\"us-east-1\")\n",
    "        except ResponseError as err:\n",
    "            print(err)\n",
    "\n",
    "        try:\n",
    "            start = time.time()\n",
    "            for j in tnrange(size, desc='files'):\n",
    "                minioClient.fput_object('test-size'+str(size)+'-'+str(ti), str(j), 'minio_test_data/'+str(size)+'/'+str(j))\n",
    "            end = time.time()\n",
    "            runTimeListSmallFile.append(end-start)\n",
    "        except ResponseError as err:\n",
    "            print(err)\n",
    "            print('upload minio_test_data/'+str(size)+'/'+str(j)+'fail')\n",
    "            runTimeListSmallFile.append(-1)\n",
    "            \n",
    "        try:\n",
    "            start = time.time()\n",
    "            minioClient.fput_object('test-size'+str(size)+'-'+str(ti), str(size)+'.tar', 'minio_test_data/'+str(size)+'.tar')\n",
    "            end = time.time()\n",
    "            runTimeListBigFile.append(end-start)\n",
    "        except ResponseError as err:\n",
    "            print(err)\n",
    "            print('upload minio_test_data/'+str(size)+'.tar fail')\n",
    "            runTimeListBigFile.append(-1)\n",
    "            \n",
    "    resultSmallFile.append(runTimeListSmallFile)\n",
    "    resultBigFile.append(runTimeListBigFile)"
   ]
  },
  {
   "cell_type": "markdown",
   "metadata": {},
   "source": [
    "output result to csv"
   ]
  },
  {
   "cell_type": "code",
   "execution_count": null,
   "metadata": {},
   "outputs": [],
   "source": [
    "with open('minio/small_file_nfs_upload.csv', 'w') as f:\n",
    "    f.write(str([str(t)+'-file' for t in testList]).replace(\"'\",'')[1:-1]+'\\n')\n",
    "    for r in resultSmallFile:\n",
    "        f.write(str(r)[1:-1]+'\\n')\n",
    "with open('minio/big_file_nfs_upload.csv', 'w') as f:\n",
    "    f.write(str([str(t)+'-file' for t in testList]).replace(\"'\",'')[1:-1]+'\\n')\n",
    "    for r in resultBigFile:\n",
    "        f.write(str(r)[1:-1]+'\\n')"
   ]
  },
  {
   "cell_type": "markdown",
   "metadata": {},
   "source": [
    "Download test"
   ]
  },
  {
   "cell_type": "code",
   "execution_count": null,
   "metadata": {},
   "outputs": [],
   "source": [
    "resultSmallFile = []\n",
    "resultBigFile = []\n",
    "for ti in tnrange(times, desc='times'):\n",
    "    runTimeListSmallFile = []\n",
    "    runTimeListBigFile = []\n",
    "    \n",
    "    for size in testList:\n",
    "        try:\n",
    "            start = time.time()\n",
    "            for j in tnrange(size, desc='files'):\n",
    "                minioClient.fget_object('test-size'+str(size)+'-'+str(ti), str(j), 'minio_test_data_read/'+str(size)+'/'+str(j))\n",
    "            end = time.time()\n",
    "            runTimeListSmallFile.append(end-start)\n",
    "        except ResponseError as err:\n",
    "            print(err)\n",
    "            print('download minio_test_data/'+str(size)+'/'+str(j)+'fail')\n",
    "            runTimeListSmallFile.append(-1)\n",
    "            \n",
    "        try:\n",
    "            start = time.time()\n",
    "            minioClient.fget_object('test-size'+str(size)+'-'+str(ti), str(size)+'.tar', 'minio_test_data_read/'+str(size)+'.tar')\n",
    "            end = time.time()\n",
    "            runTimeListBigFile.append(end-start)\n",
    "        except ResponseError as err:\n",
    "            print(err)\n",
    "            print('download minio_test_data/'+str(size)+'.tar fail')\n",
    "            runTimeListBigFile.append(-1)\n",
    "            \n",
    "    resultSmallFile.append(runTimeListSmallFile)\n",
    "    resultBigFile.append(runTimeListBigFile)"
   ]
  },
  {
   "cell_type": "code",
   "execution_count": null,
   "metadata": {},
   "outputs": [],
   "source": [
    "with open('minio/small_file_nfs_download.csv', 'w') as f:\n",
    "    f.write(str([str(t)+'-file' for t in testList]).replace(\"'\",'')[1:-1]+'\\n')\n",
    "    for r in resultSmallFile:\n",
    "        f.write(str(r)[1:-1]+'\\n')\n",
    "with open('minio/big_file_nfs_download.csv', 'w') as f:\n",
    "    f.write(str([str(t)+'-file' for t in testList]).replace(\"'\",'')[1:-1]+'\\n')\n",
    "    for r in resultBigFile:\n",
    "        f.write(str(r)[1:-1]+'\\n')"
   ]
  },
  {
   "cell_type": "markdown",
   "metadata": {},
   "source": [
    "clean file"
   ]
  },
  {
   "cell_type": "code",
   "execution_count": null,
   "metadata": {},
   "outputs": [],
   "source": [
    "try:\n",
    "    os.remove('file.txt')\n",
    "except OSError as e:  ## if failed, report it back to the user ##\n",
    "    print (\"Error: %s - %s.\" % (e.filename, e.strerror))\n",
    "try:\n",
    "    shutil.rmtree('minio_test_data')\n",
    "except OSError as e:\n",
    "    print (\"Error: %s - %s.\" % (e.filename, e.strerror))\n",
    "try:\n",
    "    shutil.rmtree('minio_test_data_read')\n",
    "except OSError as e:\n",
    "    print (\"Error: %s - %s.\" % (e.filename, e.strerror))"
   ]
  }
 ],
 "metadata": {
  "kernelspec": {
   "display_name": "Python 3",
   "language": "python",
   "name": "python3"
  },
  "language_info": {
   "codemirror_mode": {
    "name": "ipython",
    "version": 3
   },
   "file_extension": ".py",
   "mimetype": "text/x-python",
   "name": "python",
   "nbconvert_exporter": "python",
   "pygments_lexer": "ipython3",
   "version": "3.6.8"
  }
 },
 "nbformat": 4,
 "nbformat_minor": 2
}
