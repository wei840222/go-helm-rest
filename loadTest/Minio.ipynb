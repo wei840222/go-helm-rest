{
 "cells": [
  {
   "cell_type": "code",
   "execution_count": null,
   "metadata": {},
   "outputs": [
    {
     "data": {
      "application/vnd.jupyter.widget-view+json": {
       "model_id": "817c70f0217145b1be45cb4e040d03dc",
       "version_major": 2,
       "version_minor": 0
      },
      "text/plain": [
       "HBox(children=(IntProgress(value=0), HTML(value='')))"
      ]
     },
     "metadata": {},
     "output_type": "display_data"
    },
    {
     "name": "stdout",
     "output_type": "stream",
     "text": [
      "\n"
     ]
    },
    {
     "data": {
      "application/vnd.jupyter.widget-view+json": {
       "model_id": "96c770203f004782878b97a865267eee",
       "version_major": 2,
       "version_minor": 0
      },
      "text/plain": [
       "HBox(children=(IntProgress(value=0, max=200), HTML(value='')))"
      ]
     },
     "metadata": {},
     "output_type": "display_data"
    },
    {
     "name": "stdout",
     "output_type": "stream",
     "text": [
      "\n"
     ]
    },
    {
     "data": {
      "application/vnd.jupyter.widget-view+json": {
       "model_id": "a1bedfe01fa046e3b309c151fa19b63a",
       "version_major": 2,
       "version_minor": 0
      },
      "text/plain": [
       "HBox(children=(IntProgress(value=0, max=300), HTML(value='')))"
      ]
     },
     "metadata": {},
     "output_type": "display_data"
    },
    {
     "name": "stdout",
     "output_type": "stream",
     "text": [
      "\n"
     ]
    },
    {
     "data": {
      "application/vnd.jupyter.widget-view+json": {
       "model_id": "75f25647dd87419dbb3c176e833a077e",
       "version_major": 2,
       "version_minor": 0
      },
      "text/plain": [
       "HBox(children=(IntProgress(value=0, max=400), HTML(value='')))"
      ]
     },
     "metadata": {},
     "output_type": "display_data"
    },
    {
     "name": "stdout",
     "output_type": "stream",
     "text": [
      "\n"
     ]
    },
    {
     "data": {
      "application/vnd.jupyter.widget-view+json": {
       "model_id": "33f247b20a1546a0889a3b6a5fb72873",
       "version_major": 2,
       "version_minor": 0
      },
      "text/plain": [
       "HBox(children=(IntProgress(value=0, max=500), HTML(value='')))"
      ]
     },
     "metadata": {},
     "output_type": "display_data"
    }
   ],
   "source": [
    "import os, time, shutil, tarfile\n",
    "from minio import Minio\n",
    "from tqdm import tnrange\n",
    "\n",
    "testList = [100, 200, 300, 400, 500, 600, 700, 800, 900, 1000]\n",
    "runTimeListSmallFile = []\n",
    "runTimeListBigFile = []\n",
    "\n",
    "shutil.rmtree('minio_test_data')\n",
    "os.mkdir('minio_test_data')\n",
    "\n",
    "for size in testList:\n",
    "    os.mkdir('minio_test_data/'+str(size))\n",
    "    tar=tarfile.open('minio_test_data/'+str(size)+'.tar','w')  \n",
    "    for i in range(size):\n",
    "        shutil.copyfile('m_7.jpg', 'minio_test_data/'+str(size)+'/'+str(i)+'.jpg')\n",
    "        tar.add('minio_test_data/'+str(size)+'/'+str(i)+'.jpg')\n",
    "    tar.close()\n",
    "\n",
    "    minioClient = Minio('127.0.0.1:30648',\n",
    "                        access_key='wei840222',\n",
    "                        secret_key='j04rmp4jo3',\n",
    "                        secure=False)\n",
    "    \n",
    "    minioClient.make_bucket('test-'+str(size), location=\"us-east-1\")\n",
    "    with tnrange(size) as t:\n",
    "        start = time.time()\n",
    "        for i in t:\n",
    "            minioClient.fput_object('test-'+str(size), str(i)+'.jpg', 'minio_test_data/'+str(size)+'/'+str(i)+'.jpg')\n",
    "        end = time.time()\n",
    "        runTimeListSmallFile.append(end-start)\n",
    "        start = time.time()\n",
    "        minioClient.fput_object('test-'+str(size), str(size)+'.tar', 'minio_test_data/'+str(size)+'.tar')\n",
    "        end = time.time()\n",
    "        runTimeListBigFile.append(end-start)"
   ]
  },
  {
   "cell_type": "code",
   "execution_count": null,
   "metadata": {},
   "outputs": [],
   "source": [
    "import matplotlib.pyplot as plt\n",
    "\n",
    "%matplotlib inline\n",
    "fig = plt.figure()\n",
    "plt.xlabel('files (4.33MB per file)')\n",
    "plt.ylabel('time (sec)')\n",
    "plt.plot(testList, runTimeListSmallFile, 'o',\n",
    "         testList, runTimeListSmallFile, '--',\n",
    "         testList, runTimeListBigFile, 'x',\n",
    "         testList, runTimeListBigFile, '--')"
   ]
  }
 ],
 "metadata": {
  "kernelspec": {
   "display_name": "Python 3",
   "language": "python",
   "name": "python3"
  },
  "language_info": {
   "codemirror_mode": {
    "name": "ipython",
    "version": 3
   },
   "file_extension": ".py",
   "mimetype": "text/x-python",
   "name": "python",
   "nbconvert_exporter": "python",
   "pygments_lexer": "ipython3",
   "version": "3.7.3"
  }
 },
 "nbformat": 4,
 "nbformat_minor": 2
}
