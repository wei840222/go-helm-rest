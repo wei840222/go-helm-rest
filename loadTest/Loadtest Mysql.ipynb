{
 "cells": [
  {
   "cell_type": "code",
   "execution_count": 1,
   "metadata": {},
   "outputs": [],
   "source": [
    "import time\n",
    "import random, string\n",
    "from tqdm import tnrange\n",
    "\n",
    "dataLen = 10000\n",
    "keyLen = 100\n",
    "valueLen = 100"
   ]
  },
  {
   "cell_type": "markdown",
   "metadata": {},
   "source": [
    "Insert test"
   ]
  },
  {
   "cell_type": "code",
   "execution_count": 2,
   "metadata": {},
   "outputs": [],
   "source": [
    "import pymysql\n",
    "\n",
    "class DataToMysql:\n",
    "    def __init__(self, host, user, passwd, db, port):\n",
    "        try:\n",
    "            self.conn = pymysql.connect(host=host, user=user, passwd=passwd, db=db,\n",
    "                                        port=port, charset='utf8')\n",
    "            self.cursor = self.conn.cursor()\n",
    "            self.pk = 0\n",
    "        except pymysql.Error as e:\n",
    "            raise e\n",
    "            \n",
    "    def getConn(self):\n",
    "        return self.conn\n",
    "    \n",
    "    def dropTable(self, table_name):\n",
    "        self.cursor.execute(\"DROP TABLE IF EXISTS %s\" % table_name)\n",
    "\n",
    "    def write(self, table_name, info_dict):\n",
    "        info_dict['ID'] = str(self.pk)\n",
    "        self.pk += 1\n",
    "        sql_key = ''\n",
    "        sql_value = ''\n",
    "        for key in info_dict.keys():            \n",
    "            sql_value = (sql_value + '\"' + pymysql.escape_string(info_dict[key]) + '\"' + ',')\n",
    "            sql_key = sql_key + ' ' + key + ','\n",
    "\n",
    "        try:\n",
    "            self.cursor.execute(\n",
    "                \"INSERT INTO %s (%s) VALUES (%s)\" % (table_name, sql_key[:-1], sql_value[:-1]))\n",
    "            self.conn.commit()\n",
    "        except pymysql.Error as e:\n",
    "            if str(e).split(',')[0].split('(')[1] == \"1146\":\n",
    "                sql_key_str = ''\n",
    "                columnStyle = ' text'\n",
    "                for key in info_dict.keys():\n",
    "                    if key == 'ID':\n",
    "                        continue\n",
    "                    sql_key_str = sql_key_str + ' ' + key + columnStyle + ','\n",
    "                self.cursor.execute(\"CREATE TABLE %s (ID int NOT NULL PRIMARY KEY, %s)\" % (table_name, sql_key_str[:-1]))\n",
    "                self.cursor.execute(\"INSERT INTO %s (%s) VALUES (%s)\" %\n",
    "                                    (table_name, sql_key[:-1], sql_value[:-1]))\n",
    "                self.conn.commit()\n",
    "            else:\n",
    "                raise\n",
    "                \n",
    "    def read(self, table_name, where):\n",
    "        self.cursor.execute(\"SELECT * FROM %s WHERE %s\" % (table_name, where))\n",
    "        return self.cursor.fetchall()"
   ]
  },
  {
   "cell_type": "code",
   "execution_count": null,
   "metadata": {},
   "outputs": [
    {
     "name": "stderr",
     "output_type": "stream",
     "text": [
      "/home/aclab/anaconda3/lib/python3.7/site-packages/pymysql/cursors.py:170: Warning: (1051, \"Unknown table 'database.test'\")\n",
      "  result = self._query(query)\n"
     ]
    },
    {
     "data": {
      "application/vnd.jupyter.widget-view+json": {
       "model_id": "1aad7986d1aa47c0bf9d9dd555639d82",
       "version_major": 2,
       "version_minor": 0
      },
      "text/plain": [
       "HBox(children=(IntProgress(value=0, max=10000), HTML(value='')))"
      ]
     },
     "metadata": {},
     "output_type": "display_data"
    }
   ],
   "source": [
    "col = [''.join(random.choice(string.ascii_letters) for _ in range(10)) for _ in range(keyLen)]\n",
    "result = []\n",
    "\n",
    "mysql = DataToMysql(host='140.124.181.78', port=30398, user='wei840222', passwd='j04rmp4jo3', db='database')\n",
    "mysql.dropTable('test')\n",
    "for i in tnrange(dataLen):\n",
    "    data = {}\n",
    "    for x in range(keyLen): \n",
    "        data[col[x]] = ''.join(random.choice(string.ascii_letters) for _ in range(valueLen))\n",
    "    start = time.time()\n",
    "    mysql.write('test', data)\n",
    "    end = time.time()\n",
    "    result.append(end-start)\n",
    "mysql.getConn().close()"
   ]
  },
  {
   "cell_type": "markdown",
   "metadata": {},
   "source": [
    "output result to csv"
   ]
  },
  {
   "cell_type": "code",
   "execution_count": null,
   "metadata": {},
   "outputs": [],
   "source": [
    "with open('mysql/nfs_10000_insert.csv', 'w') as f:\n",
    "    f.write('time\\n')\n",
    "    for r in result:\n",
    "        f.write(str(r)+'\\n')"
   ]
  },
  {
   "cell_type": "markdown",
   "metadata": {},
   "source": [
    "Download test"
   ]
  },
  {
   "cell_type": "code",
   "execution_count": null,
   "metadata": {},
   "outputs": [],
   "source": [
    "result = []\n",
    "\n",
    "mysql = DataToMysql(host='140.124.181.78', port=30398, user='wei840222', passwd='j04rmp4jo3', db='database')\n",
    "for i in tnrange(dataLen):\n",
    "    start = time.time()\n",
    "    mysql.read('test', 'ID = %d' % i)\n",
    "    end = time.time()\n",
    "    result.append(end-start)\n",
    "mysql.getConn().close()"
   ]
  },
  {
   "cell_type": "code",
   "execution_count": null,
   "metadata": {},
   "outputs": [],
   "source": [
    "with open('mysql/nfs_10000_read.csv', 'w') as f:\n",
    "    f.write('time\\n')\n",
    "    for r in result:\n",
    "        f.write(str(r)+'\\n') "
   ]
  }
 ],
 "metadata": {
  "kernelspec": {
   "display_name": "Python 3",
   "language": "python",
   "name": "python3"
  },
  "language_info": {
   "codemirror_mode": {
    "name": "ipython",
    "version": 3
   },
   "file_extension": ".py",
   "mimetype": "text/x-python",
   "name": "python",
   "nbconvert_exporter": "python",
   "pygments_lexer": "ipython3",
   "version": "3.7.3"
  }
 },
 "nbformat": 4,
 "nbformat_minor": 2
}
